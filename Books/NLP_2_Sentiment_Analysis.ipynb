{
 "cells": [
  {
   "cell_type": "markdown",
   "metadata": {},
   "source": [
    "# Natural Language Processing On Books 2\n",
    "\n",
    "10 books from each of the below genres were cleaned and preprocessed into .txt files.\n",
    "* Romance\n",
    "* Mystery\n",
    "* Thriller\n",
    "* Horror\n",
    "* Scifi\n",
    "* Fantasy\n",
    "\n",
    "The aim of this notebook is to:\n",
    "1. Perform basic sentiment analysis on the books.\n",
    "2. Investigate polarity of books across different genres and when each book is split into segments."
   ]
  },
  {
   "cell_type": "code",
   "execution_count": 2,
   "metadata": {
    "scrolled": true
   },
   "outputs": [],
   "source": [
    "import glob\n",
    "import pandas as pd\n",
    "import numpy as np\n",
    "import nltk\n",
    "import re\n",
    "import string\n",
    "from textblob import TextBlob, Word, Blobber\n",
    "from sklearn.feature_extraction.text import CountVectorizer\n",
    "from matplotlib.lines import Line2D\n",
    "import matplotlib\n",
    "import math"
   ]
  },
  {
   "cell_type": "code",
   "execution_count": 3,
   "metadata": {},
   "outputs": [],
   "source": [
    "#df.to_pickle(\"./books_dataframe.pkl\")\n",
    "df = pd.read_pickle(\"./books_dataframe.pkl\")"
   ]
  },
  {
   "cell_type": "code",
   "execution_count": null,
   "metadata": {
    "scrolled": true
   },
   "outputs": [],
   "source": [
    "# Create quick lambda functions to find the polarity and subjectivity of each routine\n",
    "# Terminal / Anaconda Navigator: conda install -c conda-forge textblob\n",
    "\n",
    "pol = lambda x: TextBlob(x).sentiment.polarity\n",
    "sub = lambda x: TextBlob(x).sentiment.subjectivity\n",
    "\n",
    "df['polarity'] = df['book_string'].apply(pol)\n",
    "df['subjectivity'] = df['book_string'].apply(sub)"
   ]
  },
  {
   "cell_type": "code",
   "execution_count": null,
   "metadata": {},
   "outputs": [],
   "source": [
    "plt.figure(figsize=(16,10))\n",
    "plt.plot(df.index,df.un)"
   ]
  },
  {
   "cell_type": "code",
   "execution_count": null,
   "metadata": {},
   "outputs": [],
   "source": [
    "indices=df.index\n",
    "polarity=df.polarity\n",
    "polarities_sorted, book_names_sorted = zip(*sorted(zip(polarity, indices)))\n",
    "\n",
    "color_map={'Fantasy':'cyan','Romance':'red','Thriller':'green','Mystery':'magenta','SciFi':'black','Horror':'grey'}\n",
    "colors_unique=[color_map[df.loc[book].book_genre] for book in book_names_sorted]\n",
    "\n",
    "plt.figure(figsize=(16,22))\n",
    "plt.barh(book_names_sorted, polarities_sorted, align='center', color=colors_unique)\n",
    "legend_elements = [Line2D([0], [0], color='cyan', lw=4, label='Fantasy'),\n",
    "                   Line2D([0], [0], color='red', lw=4, label='Romance'),\n",
    "                   Line2D([0], [0], color='green', lw=4, label='Thriller'),\n",
    "                   Line2D([0], [0], color='magenta', lw=4, label='Mystery'),\n",
    "                   Line2D([0], [0], color='black', lw=4, label='SciFi'),\n",
    "                   Line2D([0], [0], color='grey', lw=4, label='Horror')]\n",
    "plt.legend(handles=legend_elements, loc='right', prop={'size': 16})\n",
    "#                   \n",
    "#plt.yticks(book_names_sorted,polarities_sorted )\n",
    "plt.title('book polarities', fontsize=20)"
   ]
  },
  {
   "cell_type": "code",
   "execution_count": null,
   "metadata": {},
   "outputs": [],
   "source": [
    "indices=df.index\n",
    "subjectivity=df.subjectivity\n",
    "subjectivities_sorted, book_names_sorted = zip(*sorted(zip(subjectivity, indices)))\n",
    "\n",
    "plt.figure(figsize=(16,22))\n",
    "plt.barh(book_names_sorted, subjectivities_sorted, align='center', color=colors_unique)\n",
    "legend_elements = [Line2D([0], [0], color='cyan', lw=4, label='Fantasy'),\n",
    "                   Line2D([0], [0], color='red', lw=4, label='Romance'),\n",
    "                   Line2D([0], [0], color='green', lw=4, label='Thriller'),\n",
    "                   Line2D([0], [0], color='magenta', lw=4, label='Mystery'),\n",
    "                   Line2D([0], [0], color='black', lw=4, label='SciFi'),\n",
    "                   Line2D([0], [0], color='grey', lw=4, label='Horror')]\n",
    "plt.legend(handles=legend_elements, loc='right', prop={'size': 16})\n",
    "                   \n",
    "#plt.yticks(book_names_sorted,polarities_sorted )\n",
    "plt.title('book subjectivities', fontsize=20)"
   ]
  },
  {
   "cell_type": "code",
   "execution_count": null,
   "metadata": {},
   "outputs": [],
   "source": [
    "# Let's plot the results\n",
    "import matplotlib.pyplot as plt\n",
    "\n",
    "plt.rcParams['figure.figsize'] = [16, 12]\n",
    "\n",
    "for index, book in enumerate(df.index):\n",
    "    x = df.polarity.loc[book]\n",
    "    y = df.subjectivity.loc[book]\n",
    "    plt.scatter(x, y, color='blue')\n",
    "    plt.text(x+.001, y+.001, book, fontsize=10)\n",
    "    plt.xlim(-.01, .16) \n",
    "    \n",
    "plt.title('Sentiment Analysis', fontsize=20)\n",
    "plt.xlabel('<-- Negative -------- Positive -->', fontsize=15)\n",
    "plt.ylabel('<-- Facts -------- Opinions -->', fontsize=15)\n",
    "\n",
    "plt.show()"
   ]
  },
  {
   "cell_type": "code",
   "execution_count": null,
   "metadata": {},
   "outputs": [],
   "source": [
    "# Split each routine into 10 parts\n",
    "\n",
    "def split_text(text, n=200):\n",
    "    '''Takes in a string of text and splits into n equal parts, with a default of 10 equal parts.'''\n",
    "\n",
    "    # Calculate length of text, the size of each chunk of text and the starting points of each chunk of text\n",
    "    length = len(text)\n",
    "    size = math.floor(length / n)\n",
    "    start = np.arange(0, length, size)\n",
    "    \n",
    "    # Pull out equally sized pieces of text and put it into a list\n",
    "    split_list = []\n",
    "    for piece in range(n):\n",
    "        split_list.append(text[start[piece]:start[piece]+size])\n",
    "    return split_list"
   ]
  },
  {
   "cell_type": "code",
   "execution_count": null,
   "metadata": {},
   "outputs": [],
   "source": [
    "# Let's create a list to hold all of the pieces of text\n",
    "list_pieces = []\n",
    "for t in df.book_string:\n",
    "    split = split_text(t)\n",
    "    list_pieces.append(split)"
   ]
  },
  {
   "cell_type": "code",
   "execution_count": null,
   "metadata": {
    "scrolled": true
   },
   "outputs": [],
   "source": [
    "# Calculate the polarity for each piece of text\n",
    "polarity_text = []\n",
    "for lp in list_pieces:\n",
    "    polarity_piece = []\n",
    "    for p in lp:\n",
    "        polarity_piece.append(TextBlob(p).sentiment.polarity)\n",
    "    polarity_text.append(polarity_piece)"
   ]
  },
  {
   "cell_type": "code",
   "execution_count": null,
   "metadata": {
    "scrolled": false
   },
   "outputs": [],
   "source": [
    "# Show the plot for each book\n",
    "for index, book in enumerate(df.index):\n",
    "    plt.figure(figsize=(12,5))\n",
    "    plt.plot(polarity_text[index])\n",
    "    plt.title(df.index[index])\n",
    "    plt.plot(np.arange(0,200), np.zeros(200))\n",
    "    plt.ylim(ymin=-.1, ymax=.5)\n",
    "    plt.show()"
   ]
  }
 ],
 "metadata": {
  "kernelspec": {
   "display_name": "Python 3",
   "language": "python",
   "name": "python3"
  },
  "language_info": {
   "codemirror_mode": {
    "name": "ipython",
    "version": 3
   },
   "file_extension": ".py",
   "mimetype": "text/x-python",
   "name": "python",
   "nbconvert_exporter": "python",
   "pygments_lexer": "ipython3",
   "version": "3.7.1"
  }
 },
 "nbformat": 4,
 "nbformat_minor": 2
}
